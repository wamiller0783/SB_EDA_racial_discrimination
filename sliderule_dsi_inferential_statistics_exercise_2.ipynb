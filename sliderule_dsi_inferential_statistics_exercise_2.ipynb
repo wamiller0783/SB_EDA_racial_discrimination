{
 "cells": [
  {
   "cell_type": "markdown",
   "metadata": {},
   "source": [
    "# Examining Racial Discrimination in the US Job Market\n",
    "\n",
    "### Background\n",
    "Racial discrimination continues to be pervasive in cultures throughout the world. Researchers examined the level of racial discrimination in the United States labor market by randomly assigning identical résumés to black-sounding or white-sounding names and observing the impact on requests for interviews from employers.\n",
    "\n",
    "### Data\n",
    "In the dataset provided, each row represents a resume. The 'race' column has two values, 'b' and 'w', indicating black-sounding and white-sounding. The column 'call' has two values, 1 and 0, indicating whether the resume received a call from employers or not.\n",
    "\n",
    "Note that the 'b' and 'w' values in race are assigned randomly to the resumes when presented to the employer."
   ]
  },
  {
   "cell_type": "markdown",
   "metadata": {},
   "source": [
    "<div class=\"span5 alert alert-info\">\n",
    "### Exercises\n",
    "You will perform a statistical analysis to establish whether race has a significant impact on the rate of callbacks for resumes.\n",
    "\n",
    "Answer the following questions **in this notebook below and submit to your Github account**. \n",
    "\n",
    "   1. What test is appropriate for this problem? Does CLT apply?\n",
    "   2. What are the null and alternate hypotheses?\n",
    "   3. Compute margin of error, confidence interval, and p-value. Try using both the bootstrapping and the frequentist statistical approaches.\n",
    "   4. Write a story describing the statistical significance in the context or the original problem.\n",
    "   5. Does your analysis mean that race/name is the most important factor in callback success? Why or why not? If not, how would you amend your analysis?\n",
    "\n",
    "You can include written notes in notebook cells using Markdown: \n",
    "   - In the control panel at the top, choose Cell > Cell Type > Markdown\n",
    "   - Markdown syntax: http://nestacms.com/docs/creating-content/markdown-cheat-sheet\n",
    "\n",
    "\n",
    "#### Resources\n",
    "+ Experiment information and data source: http://www.povertyactionlab.org/evaluation/discrimination-job-market-united-states\n",
    "+ Scipy statistical methods: http://docs.scipy.org/doc/scipy/reference/stats.html \n",
    "+ Markdown syntax: http://nestacms.com/docs/creating-content/markdown-cheat-sheet\n",
    "+ Formulas for the Bernoulli distribution: https://en.wikipedia.org/wiki/Bernoulli_distribution\n",
    "</div>\n",
    "****"
   ]
  },
  {
   "cell_type": "code",
   "execution_count": 35,
   "metadata": {},
   "outputs": [],
   "source": [
    "import pandas as pd\n",
    "import numpy as np\n",
    "import matplotlib.pyplot as plt\n",
    "import seaborn as sns\n",
    "import warnings\n",
    "\n",
    "from scipy import stats\n",
    "warnings.filterwarnings(\"ignore\")"
   ]
  },
  {
   "cell_type": "code",
   "execution_count": 2,
   "metadata": {},
   "outputs": [],
   "source": [
    "data = pd.io.stata.read_stata('data/us_job_market_discrimination.dta')"
   ]
  },
  {
   "cell_type": "markdown",
   "metadata": {},
   "source": [
    "### 0) Preliminary data exploration"
   ]
  },
  {
   "cell_type": "code",
   "execution_count": 4,
   "metadata": {
    "scrolled": true
   },
   "outputs": [
    {
     "data": {
      "text/html": [
       "<div>\n",
       "<style scoped>\n",
       "    .dataframe tbody tr th:only-of-type {\n",
       "        vertical-align: middle;\n",
       "    }\n",
       "\n",
       "    .dataframe tbody tr th {\n",
       "        vertical-align: top;\n",
       "    }\n",
       "\n",
       "    .dataframe thead th {\n",
       "        text-align: right;\n",
       "    }\n",
       "</style>\n",
       "<table border=\"1\" class=\"dataframe\">\n",
       "  <thead>\n",
       "    <tr style=\"text-align: right;\">\n",
       "      <th></th>\n",
       "      <th>id</th>\n",
       "      <th>ad</th>\n",
       "      <th>education</th>\n",
       "      <th>ofjobs</th>\n",
       "      <th>yearsexp</th>\n",
       "      <th>honors</th>\n",
       "      <th>volunteer</th>\n",
       "      <th>military</th>\n",
       "      <th>empholes</th>\n",
       "      <th>occupspecific</th>\n",
       "      <th>...</th>\n",
       "      <th>compreq</th>\n",
       "      <th>orgreq</th>\n",
       "      <th>manuf</th>\n",
       "      <th>transcom</th>\n",
       "      <th>bankreal</th>\n",
       "      <th>trade</th>\n",
       "      <th>busservice</th>\n",
       "      <th>othservice</th>\n",
       "      <th>missind</th>\n",
       "      <th>ownership</th>\n",
       "    </tr>\n",
       "  </thead>\n",
       "  <tbody>\n",
       "    <tr>\n",
       "      <th>0</th>\n",
       "      <td>b</td>\n",
       "      <td>1</td>\n",
       "      <td>4</td>\n",
       "      <td>2</td>\n",
       "      <td>6</td>\n",
       "      <td>0</td>\n",
       "      <td>0</td>\n",
       "      <td>0</td>\n",
       "      <td>1</td>\n",
       "      <td>17</td>\n",
       "      <td>...</td>\n",
       "      <td>1.0</td>\n",
       "      <td>0.0</td>\n",
       "      <td>1.0</td>\n",
       "      <td>0.0</td>\n",
       "      <td>0.0</td>\n",
       "      <td>0.0</td>\n",
       "      <td>0.0</td>\n",
       "      <td>0.0</td>\n",
       "      <td>0.0</td>\n",
       "      <td></td>\n",
       "    </tr>\n",
       "    <tr>\n",
       "      <th>1</th>\n",
       "      <td>b</td>\n",
       "      <td>1</td>\n",
       "      <td>3</td>\n",
       "      <td>3</td>\n",
       "      <td>6</td>\n",
       "      <td>0</td>\n",
       "      <td>1</td>\n",
       "      <td>1</td>\n",
       "      <td>0</td>\n",
       "      <td>316</td>\n",
       "      <td>...</td>\n",
       "      <td>1.0</td>\n",
       "      <td>0.0</td>\n",
       "      <td>1.0</td>\n",
       "      <td>0.0</td>\n",
       "      <td>0.0</td>\n",
       "      <td>0.0</td>\n",
       "      <td>0.0</td>\n",
       "      <td>0.0</td>\n",
       "      <td>0.0</td>\n",
       "      <td></td>\n",
       "    </tr>\n",
       "    <tr>\n",
       "      <th>2</th>\n",
       "      <td>b</td>\n",
       "      <td>1</td>\n",
       "      <td>4</td>\n",
       "      <td>1</td>\n",
       "      <td>6</td>\n",
       "      <td>0</td>\n",
       "      <td>0</td>\n",
       "      <td>0</td>\n",
       "      <td>0</td>\n",
       "      <td>19</td>\n",
       "      <td>...</td>\n",
       "      <td>1.0</td>\n",
       "      <td>0.0</td>\n",
       "      <td>1.0</td>\n",
       "      <td>0.0</td>\n",
       "      <td>0.0</td>\n",
       "      <td>0.0</td>\n",
       "      <td>0.0</td>\n",
       "      <td>0.0</td>\n",
       "      <td>0.0</td>\n",
       "      <td></td>\n",
       "    </tr>\n",
       "    <tr>\n",
       "      <th>3</th>\n",
       "      <td>b</td>\n",
       "      <td>1</td>\n",
       "      <td>3</td>\n",
       "      <td>4</td>\n",
       "      <td>6</td>\n",
       "      <td>0</td>\n",
       "      <td>1</td>\n",
       "      <td>0</td>\n",
       "      <td>1</td>\n",
       "      <td>313</td>\n",
       "      <td>...</td>\n",
       "      <td>1.0</td>\n",
       "      <td>0.0</td>\n",
       "      <td>1.0</td>\n",
       "      <td>0.0</td>\n",
       "      <td>0.0</td>\n",
       "      <td>0.0</td>\n",
       "      <td>0.0</td>\n",
       "      <td>0.0</td>\n",
       "      <td>0.0</td>\n",
       "      <td></td>\n",
       "    </tr>\n",
       "    <tr>\n",
       "      <th>4</th>\n",
       "      <td>b</td>\n",
       "      <td>1</td>\n",
       "      <td>3</td>\n",
       "      <td>3</td>\n",
       "      <td>22</td>\n",
       "      <td>0</td>\n",
       "      <td>0</td>\n",
       "      <td>0</td>\n",
       "      <td>0</td>\n",
       "      <td>313</td>\n",
       "      <td>...</td>\n",
       "      <td>1.0</td>\n",
       "      <td>1.0</td>\n",
       "      <td>0.0</td>\n",
       "      <td>0.0</td>\n",
       "      <td>0.0</td>\n",
       "      <td>0.0</td>\n",
       "      <td>0.0</td>\n",
       "      <td>1.0</td>\n",
       "      <td>0.0</td>\n",
       "      <td>Nonprofit</td>\n",
       "    </tr>\n",
       "  </tbody>\n",
       "</table>\n",
       "<p>5 rows × 65 columns</p>\n",
       "</div>"
      ],
      "text/plain": [
       "  id ad  education  ofjobs  yearsexp  honors  volunteer  military  empholes  \\\n",
       "0  b  1          4       2         6       0          0         0         1   \n",
       "1  b  1          3       3         6       0          1         1         0   \n",
       "2  b  1          4       1         6       0          0         0         0   \n",
       "3  b  1          3       4         6       0          1         0         1   \n",
       "4  b  1          3       3        22       0          0         0         0   \n",
       "\n",
       "   occupspecific    ...      compreq  orgreq  manuf  transcom  bankreal trade  \\\n",
       "0             17    ...          1.0     0.0    1.0       0.0       0.0   0.0   \n",
       "1            316    ...          1.0     0.0    1.0       0.0       0.0   0.0   \n",
       "2             19    ...          1.0     0.0    1.0       0.0       0.0   0.0   \n",
       "3            313    ...          1.0     0.0    1.0       0.0       0.0   0.0   \n",
       "4            313    ...          1.0     1.0    0.0       0.0       0.0   0.0   \n",
       "\n",
       "  busservice othservice  missind  ownership  \n",
       "0        0.0        0.0      0.0             \n",
       "1        0.0        0.0      0.0             \n",
       "2        0.0        0.0      0.0             \n",
       "3        0.0        0.0      0.0             \n",
       "4        0.0        1.0      0.0  Nonprofit  \n",
       "\n",
       "[5 rows x 65 columns]"
      ]
     },
     "execution_count": 4,
     "metadata": {},
     "output_type": "execute_result"
    }
   ],
   "source": [
    "data.head()"
   ]
  },
  {
   "cell_type": "code",
   "execution_count": 6,
   "metadata": {},
   "outputs": [],
   "source": [
    "w = data[data.race=='w']\n",
    "b = data[data.race=='b']"
   ]
  },
  {
   "cell_type": "code",
   "execution_count": 184,
   "metadata": {},
   "outputs": [
    {
     "name": "stdout",
     "output_type": "stream",
     "text": [
      "Number of callbacks for black-sounding names: 157 resumes out of 2435\n",
      "Number of callbacks for white-sounding names: 235 resumes out of 2435\n"
     ]
    }
   ],
   "source": [
    "# number of callbacks for black-sounding names\n",
    "print('Number of callbacks for black-sounding names: ' +\n",
    "      '{:0.0f} resumes out of {:0.0f}'.format(np.sum(b.call), len(b.call)))\n",
    "print('Number of callbacks for white-sounding names: ' +\n",
    "      '{:0.0f} resumes out of {:0.0f}'.format(np.sum(w.call), len(w.call)))"
   ]
  },
  {
   "cell_type": "code",
   "execution_count": 204,
   "metadata": {},
   "outputs": [
    {
     "data": {
      "image/png": "[encoded data removed]",
      "text/plain": [
       "<Figure size 432x288 with 1 Axes>"
      ]
     },
     "metadata": {},
     "output_type": "display_data"
    },
    {
     "name": "stdout",
     "output_type": "stream",
     "text": [
      "Callback frequency for white-sounding names: 0.097\n",
      "Callback frequency for black-sounding names: 0.064\n"
     ]
    }
   ],
   "source": [
    "fig, ax = plt.subplots(1,1)\n",
    "sns.barplot(x='race', y='call', data=data)\n",
    "ax.patches[0].set_color('darkorange')\n",
    "ax.patches[1].set_color('blue')\n",
    "plt.xlabel('Race')\n",
    "plt.ylabel('Callback frequency')\n",
    "plt.show()\n",
    "print('Callback frequency for white-sounding names: {:0.3f}'.format(np.sum(w.call)/len(w)))\n",
    "print('Callback frequency for black-sounding names: {:0.3f}'.format(np.sum(b.call)/len(w)))"
   ]
  },
  {
   "cell_type": "markdown",
   "metadata": {
    "collapsed": true
   },
   "source": [
    "<div class=\"span5 alert alert-success\">\n",
    "<p>Your answers to Q1 and Q2 here</p></div>"
   ]
  },
  {
   "cell_type": "markdown",
   "metadata": {},
   "source": [
    "### 1) What test is appropriate for this problem? Does CLT apply?\n",
    "As the data for this problem in binary, binomial hypothesis tests apply. The Central Limit Theorem is applicable to binomial distributions."
   ]
  },
  {
   "cell_type": "markdown",
   "metadata": {},
   "source": [
    "### 2) What are the null and alternate hypotheses?\n",
    "Null hypothesis: race has no statistically significant impact on the rate of callbacks for resumes.  \n",
    "Alternate hypothesis: race has a statistically significant impact on the rate of callbacks for resumes.\n",
    "\n",
    "I will adopt a significance level of alpha = 0.05, below which it is acceptable to reject the null hypothesis."
   ]
  },
  {
   "cell_type": "markdown",
   "metadata": {},
   "source": [
    "### 3) Compute margin of error, confidence interval, and p-value. Try using both the bootstrapping and the frequentist statistical approaches."
   ]
  },
  {
   "cell_type": "code",
   "execution_count": 205,
   "metadata": {},
   "outputs": [
    {
     "data": {
      "image/png": "[encoded data removed]",
      "text/plain": [
       "<Figure size 432x288 with 1 Axes>"
      ]
     },
     "metadata": {},
     "output_type": "display_data"
    }
   ],
   "source": [
    "n_w = len(w)\n",
    "# calculate p-value for white-sounding names (w)\n",
    "p_w = np.sum(w.call)/len(w)\n",
    "# calculate mean number of calls for w\n",
    "mu_calls_w = p_w * n_w\n",
    "\n",
    "n_b = len(b)\n",
    "# calculate p-value for black-sounding names (b)\n",
    "p_b = np.sum(b.call)/len(b)\n",
    "# calculate mean number of calls for b\n",
    "mu_calls_b = p_b * n_b\n",
    "\n",
    "# plot binomial pdf for b\n",
    "x_b = np.arange(stats.binom.ppf(0.01, n_b, p_b), stats.binom.ppf(0.99, n_b, p_b))\n",
    "plt.plot(x_b, stats.binom.pmf(x_b, n_b, p_b), color='blue')\n",
    "# add line for mean number of calls for b\n",
    "plt.vlines(mu_calls_b, 0.005, 0.035, color='blue')\n",
    "\n",
    "# plot binomial pdf for w\n",
    "x_w = np.arange(stats.binom.ppf(0.01, n_w, p_w), stats.binom.ppf(0.99, n_w, p_w))\n",
    "plt.plot(x_w, stats.binom.pmf(x_w, n_w, p_w), color='darkorange')\n",
    "# add line for mean number of calls for w\n",
    "plt.vlines(mu_calls_w, 0.005, 0.035, color='orange')\n",
    "\n",
    "# add labels and legend to plot\n",
    "plt.xlabel(\"number of callbacks (out of 4870)\")\n",
    "plt.ylabel(\"binomial pmf\")\n",
    "plt.legend(['black', 'white'])\n",
    "\n",
    "plt.show()\n"
   ]
  },
  {
   "cell_type": "markdown",
   "metadata": {},
   "source": [
    "#### Compute margin of error, confidence interval, and p-value using a frequentist approach"
   ]
  },
  {
   "cell_type": "code",
   "execution_count": 191,
   "metadata": {},
   "outputs": [
    {
     "name": "stdout",
     "output_type": "stream",
     "text": [
      "p-value for black-sounding names: 0.064\n",
      "p-value for white-sounding names: 0.097\n",
      "\n",
      "The 95% confidence interval for callback percent for black-sounding names is 134.000 to 181.000\n",
      "The 95% confidence interval for callback percent for white-sounding names is 207.000 to 264.000\n",
      "\n",
      "The margin of error for callback percent for black-sounding names is 0.010\n",
      "The margin of error for callback percent for white-sounding names is 0.012\n",
      "\n",
      "-------------------------\n",
      "\n",
      "The 95% confidence interval for number of callbacks for black-sounding names is 134 to 181\n",
      "The 95% confidence interval for number of callbacks for white-sounding names is 207 to 264\n",
      "\n",
      "The margin of error for number of callbacks for black-sounding names is 23.8\n",
      "The margin of error for number of callbacks for white-sounding names is 28.6\n"
     ]
    }
   ],
   "source": [
    "# set significance level alpha to 0.05\n",
    "alpha = 0.05\n",
    "\n",
    "\n",
    "# Compute margin of error for b\n",
    "t_crit_b = stats.t.ppf(q = 1 - (alpha/2), df=n_b-1)\n",
    "std_b = np.std(b.call)\n",
    "s_sigma_b = std_b/np.sqrt(n_b)\n",
    "margin_err_b = t_crit_b * s_sigma_b\n",
    "\n",
    "# Compute margin of error for w\n",
    "t_crit_w = stats.t.ppf(q = 1 - (alpha/2), df=n_w-1)\n",
    "std_w = np.std(w.call)\n",
    "s_sigma_w = std_w/np.sqrt(n_w)\n",
    "margin_err_w = t_crit_w * s_sigma_w                       \n",
    "                       \n",
    "# Get confidence interval (using scipy to check results above)\n",
    "ci_w = stats.binom.interval(1-alpha, n_w, p_w)\n",
    "ci_b = stats.binom.interval(1-alpha, n_b, p_b)\n",
    "\n",
    "\n",
    "print('p-value for black-sounding names: {:0.3f}'.format(p_b))\n",
    "print('p-value for white-sounding names: {:0.3f}'.format(p_w))\n",
    "\n",
    "print('\\nThe 95% confidence interval for callback percent ' +\n",
    "      'for black-sounding names is {:0.3f} to {:0.3f}'.format(ci_b[0], ci_b[1]))\n",
    "print('The 95% confidence interval for callback percent '\n",
    "      'for white-sounding names is {:0.3f} to {:0.03f}'.format(ci_w[0], ci_w[1]))\n",
    "print('\\nThe margin of error for callback percent ' +\n",
    "      'for black-sounding names is {:0.3f}'.format(margin_err_b))\n",
    "print('The margin of error for callback percent ' +\n",
    "      'for white-sounding names is {:0.3f}'.format(margin_err_w))\n",
    "print('\\n-------------------------')\n",
    "print('\\nThe 95% confidence interval for number of callbacks ' +\n",
    "      'for black-sounding names is {:0.0f} to {:0.0f}'.format(ci_b[0], ci_b[1]))\n",
    "print('The 95% confidence interval for number of callbacks '\n",
    "      'for white-sounding names is {:0.0f} to {:0.0f}'.format(ci_w[0], ci_w[1]))\n",
    "print('\\nThe margin of error for number of callbacks ' +\n",
    "      'for black-sounding names is {:0.1f}'.format(margin_err_b*n_b))\n",
    "print('The margin of error for number of callbacks ' +\n",
    "      'for white-sounding names is {:0.1f}'.format(margin_err_w*n_w))"
   ]
  },
  {
   "cell_type": "markdown",
   "metadata": {},
   "source": [
    "There is no overlap in the confidence intervals for the callbacks received for white-sounding and those received for black-sounding names given a significance level of 0.05. From the results of the frequentist approach, it is safe to reject the null hypothesis that race has no statistically significant impact on the rate of callbacks for resumes. The alternate hypothesis, that race has a statistically significant impact on the rate of callbacks for resumes, should be accepted."
   ]
  },
  {
   "cell_type": "markdown",
   "metadata": {},
   "source": [
    "#### # Compute margin of error, confidence interval, and p-value using bootstrapping approach"
   ]
  },
  {
   "cell_type": "code",
   "execution_count": 141,
   "metadata": {},
   "outputs": [],
   "source": [
    "def draw_bs_reps(data, func, size=1):\n",
    "    \"\"\"Draw bootstrap replicates.\"\"\"\n",
    "\n",
    "    # Initialize array of replicates: bs_replicates\n",
    "    bs_replicates = np.empty(size)\n",
    "\n",
    "    # Generate replicates\n",
    "    for i in range(size):\n",
    "        bs_replicates[i] = func(np.random.choice(data, len(data)))\n",
    "    return bs_replicates"
   ]
  },
  {
   "cell_type": "code",
   "execution_count": 193,
   "metadata": {},
   "outputs": [
    {
     "name": "stdout",
     "output_type": "stream",
     "text": [
      "p-value for black-sounding names: 0.065\n",
      "p-value for white-sounding names: 0.097\n",
      "\n",
      "The 95% confidence interval for callback percent for black-sounding names is 0.055 to 0.074\n",
      "The 95% confidence interval for callback percent for white-sounding names is 0.085 to 0.108\n",
      "\n",
      "The margin of error for callback percent for black-sounding names is 0.010\n",
      "The margin of error for callback percent for white-sounding names is 0.011\n",
      "\n",
      "-------------------------\n",
      "\n",
      "The 95% confidence interval for number of callbacks for black-sounding names is 134 to 181\n",
      "The 95% confidence interval for number of callbacks for white-sounding names is 208 to 264\n",
      "\n",
      "The margin of error for number of callbacks for black-sounding names is 23.1\n",
      "The margin of error for number of callbacks for white-sounding names is 27.2\n"
     ]
    }
   ],
   "source": [
    "# Draw 10,000 separate bootstrap replicates for b and w data, using the mean as the test statistic.\n",
    "reps_mu_w = draw_bs_reps(w.call, np.mean, size=10000)\n",
    "reps_mu_b = draw_bs_reps(b.call, np.mean, size=10000)\n",
    "\n",
    "# Compute the average mean (equal to the p-value) of the 10,000 bootstraps\n",
    "reps_p_w = np.mean(reps_mu_w)\n",
    "reps_p_b = np.mean(reps_mu_b)\n",
    "\n",
    "# Compute the average number of callbacks for all bootstrapped samples.\n",
    "reps_calls_mu_w = reps_mu_w * n_w\n",
    "reps_calls_mu_b = reps_mu_b * n_b\n",
    "\n",
    "# Compute a 95% confidence interval for the average percent of callbacks using all bootstrapped samples.\n",
    "reps_p_ci_w = np.percentile(reps_mu_w, [2.5, 97.5])\n",
    "reps_p_ci_b = np.percentile(reps_mu_b, [2.5, 97.5])\n",
    "\n",
    "# Compute a 95% confidence interval for the average number of callbacks using all bootstrapped samples.\n",
    "reps_calls_ci_w = np.percentile(reps_calls_mu_w, [2.5, 97.5])\n",
    "reps_calls_ci_b = np.percentile(reps_calls_mu_b, [2.5, 97.5])\n",
    "\n",
    "# Use p-value and confidence interval computed above to calculate margin of error for bootstrapped samples.\n",
    "reps_p_margin_err_w = reps_p_w - reps_p_ci_w[0]\n",
    "reps_p_margin_err_b = reps_p_b - reps_p_ci_b[0]\n",
    "\n",
    "# Use p-value and confidence interval computed above to calculate margin of error for bootstrapped samples.\n",
    "reps_margin_err_w = reps_p_w * n_w - reps_calls_ci_w[0]\n",
    "reps_margin_err_b = reps_p_b * n_b - reps_calls_ci_b[0]\n",
    "\n",
    "print('p-value for black-sounding names: {:0.3f}'.format(np.mean(reps_p_b)))\n",
    "print('p-value for white-sounding names: {:0.3f}'.format(np.mean(reps_p_w)))\n",
    "\n",
    "print('\\nThe 95% confidence interval for callback percent ' +\n",
    "      'for black-sounding names is {:0.3f} to {:0.3f}'.format(reps_p_ci_b[0], reps_p_ci_b[1]))\n",
    "print('The 95% confidence interval for callback percent '\n",
    "      'for white-sounding names is {:0.3f} to {:0.03f}'.format(reps_p_ci_w[0], reps_p_ci_w[1]))\n",
    "print('\\nThe margin of error for callback percent ' +\n",
    "      'for black-sounding names is {:0.3f}'.format(reps_p_margin_err_b))\n",
    "print('The margin of error for callback percent ' +\n",
    "      'for white-sounding names is {:0.3f}'.format(reps_p_margin_err_w))\n",
    "print('\\n-------------------------')\n",
    "print('\\nThe 95% confidence interval for number of callbacks ' +\n",
    "      'for black-sounding names is {:0.0f} to {:0.0f}'.format(reps_calls_ci_b[0], reps_calls_ci_b[1]))\n",
    "print('The 95% confidence interval for number of callbacks '\n",
    "      'for white-sounding names is {:0.0f} to {:0.0f}'.format(reps_calls_ci_w[0], reps_calls_ci_w[1]))\n",
    "print('\\nThe margin of error for number of callbacks ' +\n",
    "      'for black-sounding names is {:0.1f}'.format(reps_margin_err_b))\n",
    "print('The margin of error for number of callbacks ' +\n",
    "      'for white-sounding names is {:0.1f}'.format(reps_margin_err_w))"
   ]
  },
  {
   "cell_type": "markdown",
   "metadata": {},
   "source": [
    "The results from a bootstrapped approach are very similar to those obtained from the frequentist approach. There is no overlap in the confidence intervals for the callbacks received for white-sounding and those received for black-sounding names given a significance level of 0.05. These results confirm that it is safe to reject the null hypothesis that race has no statistically significant impact on the rate of callbacks for resumes."
   ]
  },
  {
   "cell_type": "markdown",
   "metadata": {},
   "source": [
    "<div class=\"span5 alert alert-success\">\n",
    "<p> Your answers to Q4 and Q5 here </p>\n",
    "</div>"
   ]
  },
  {
   "cell_type": "markdown",
   "metadata": {
    "collapsed": true
   },
   "source": [
    "### 4) Write a story describing the statistical significance in the context or the original problem.\n",
    "Researchers examined the level of racial discrimination in the United States labor market by randomly assigning identical resumes to black-sounding or white-sounding names and observing the impact on requests for interviews from employers. From 4870 resumes, the result of this research was that 6% of resumes assigned black-sounding names received callbacks compared to 10% of resumes assigned white-sounding names.\n",
    "\n",
    "Out of 2435 resumes with white-sounding names randomly assigned to them, 235 (9.7%) received call-backs. Out of 2435 resumes with black-sounding names randomly assigned to them, 157 (6.4%) received call-backs. Thus, with all other factors being equal, resumes with black-sounding names attached received 33% fewer callbacks than those with white-sounding names. \n",
    "\n",
    "These results were highly significant statistically. If the study were repeated, there is a 95% chance that the number of callbacks received for black-sounding names would be between 134 and 181 and that the number of callbacks received for white-sounding names would be between 208 and 264. Given the number of resumes, the chance that race has no statistically significant impact on the rate of callbacks for resumes was shown to be infintesimally small."
   ]
  },
  {
   "cell_type": "markdown",
   "metadata": {},
   "source": [
    "### 5) Does your analysis mean that race/name is the most important factor in callback success? Why or why not? If not, how would you amend your analysis?"
   ]
  },
  {
   "cell_type": "markdown",
   "metadata": {},
   "source": [
    "Because names that connoted race were randomly assigned to 4870 resumes, it is highly improbable that some other factor in this study was more important to callback success, though it's certainly possible that other factors (such as education and experience relevant to the job applied for) are more important outside the context of the study. \n",
    "\n",
    "Whether or not another factor was more important within the study could be tested by dropping any features of the data set that are largely incomplete, replacing non-numerical data with numerical (if ordinal) or one-hot encoding (if nominal), and then comparing the means of each feature as well as the variance. If any factor stood out as very different for either race, and especially if it has any significant correlation with the results, it is possible the test had a bias and should be repeated. The odds of this occuring with random assignment of names in a sample of 4870, however, are exceedingly small."
   ]
  },
  {
   "cell_type": "code",
   "execution_count": null,
   "metadata": {},
   "outputs": [],
   "source": []
  }
 ],
 "metadata": {
  "hide_input": false,
  "kernelspec": {
   "display_name": "Python 3",
   "language": "python",
   "name": "python3"
  },
  "language_info": {
   "codemirror_mode": {
    "name": "ipython",
    "version": 3
   },
   "file_extension": ".py",
   "mimetype": "text/x-python",
   "name": "python",
   "nbconvert_exporter": "python",
   "pygments_lexer": "ipython3",
   "version": "3.6.5"
  }
 },
 "nbformat": 4,
 "nbformat_minor": 1
}
